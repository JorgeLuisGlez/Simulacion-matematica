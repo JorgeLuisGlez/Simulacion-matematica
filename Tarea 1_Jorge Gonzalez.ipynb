{
 "cells": [
  {
   "cell_type": "markdown",
   "id": "437221ba",
   "metadata": {},
   "source": [
    "# Presentación personal\n",
    " ## Nombre \n",
    " Jorge Luis González de la Cerda\n",
    " ## Carrera\n",
    " Ingeniería Civil\n",
    " ## Matrícula\n",
    " Ic729426\n",
    " ## Correo\n",
    " ic729426@iteso.mx\n",
    " ### Breve descripción\n",
    " Soy un joven muy creativo y apasionado, me gusta estar constantemente superandome a mi mismo, y cada día buscar alcanzar mi mejor versión. Mis pasatiempos favoritos son jugar voleibol, montar a caballo, escuchar musica y bailar. En el  campo de la ingeniería Civil los temas que mas me llaman la atención son el calculo de estructuras y la administración de obra.\n",
    " \n",
    " "
   ]
  },
  {
   "cell_type": "markdown",
   "id": "6747baba",
   "metadata": {},
   "source": [
    "### Tema a presentar\n",
    "**Deflexión en Vigas**\n",
    "\n",
    "Un esfuerzo es cuando tenemos una carga aplicada sobre un area especifica. \n",
    "\n",
    ">*Por eso sus unidades kg/m2*\n",
    "\n",
    "Para determinar la deflexión en vigas primero debemos sacar un diagrama de cortantes, que se refiere a las cargas que estan actuando sobre la viga.\n",
    "\n",
    ">*Por eso sus unidades son de fuerza, por ejemplo: Kg*\n",
    "\n",
    "Posterior a esto obtenemos el diagrama de momentos que es la multilpcación de la carga por la distancia.\n",
    "\n",
    ">*Por eso sus unidades en kgm*\n",
    "\n",
    "Una vez que tenemos el diagrama y las ecuaciones de momento, integramos las ecuaciones de momento para obtener el giro. Con el giro nos referimos a la pendinnte de la deflexión. Es decir en el punto donde el giro es iguala 0 usualmente se encuentra la mayor deflexión.\n",
    "\n",
    "Finalmente obtenemos la deflexión  que se refiere a deformación que sufre la viga en respuesta a la aplicación de un esfuerzo.\n",
    "\n",
    ">*Por eso sus unidades en cm o mm*\n"
   ]
  },
  {
   "cell_type": "code",
   "execution_count": null,
   "id": "a3a7f23b",
   "metadata": {},
   "outputs": [],
   "source": []
  },
  {
   "cell_type": "code",
   "execution_count": null,
   "id": "2fa44229",
   "metadata": {},
   "outputs": [],
   "source": []
  }
 ],
 "metadata": {
  "kernelspec": {
   "display_name": "Python 3 (ipykernel)",
   "language": "python",
   "name": "python3"
  },
  "language_info": {
   "codemirror_mode": {
    "name": "ipython",
    "version": 3
   },
   "file_extension": ".py",
   "mimetype": "text/x-python",
   "name": "python",
   "nbconvert_exporter": "python",
   "pygments_lexer": "ipython3",
   "version": "3.9.7"
  }
 },
 "nbformat": 4,
 "nbformat_minor": 5
}
