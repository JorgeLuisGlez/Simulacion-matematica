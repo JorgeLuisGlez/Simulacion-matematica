{
 "cells": [
  {
   "cell_type": "markdown",
   "metadata": {},
   "source": [
    "# Tarea - Ajuste de curvas"
   ]
  },
  {
   "cell_type": "code",
   "execution_count": 70,
   "metadata": {},
   "outputs": [],
   "source": [
    "import numpy as np\n",
    "import pandas as pd\n",
    "import matplotlib.pyplot as plt"
   ]
  },
  {
   "cell_type": "markdown",
   "metadata": {},
   "source": [
    "---\n",
    "### Problema 1\n",
    "\n",
    "Los siguientes datos representan el costo en dólares de la electricidad según Western Electricity Coordinating Council desde el 2014 (y su pronóstico para el 2040)\n",
    "\n",
    "Tomado de:\n",
    "https://www.quandl.com/data/EIA/AEO_2016_REF_NO_CPP_PRCE_NA_COMM_NA_ELC_NA_WECCRKS_NCNTPKWH_A-Electricity-End-Use-Prices-Commercial-Western-Electricity-Coordinating-Council-Rockies-No-CPP-AEO2016"
   ]
  },
  {
   "cell_type": "code",
   "execution_count": 71,
   "metadata": {},
   "outputs": [],
   "source": [
    "# Datos extraidos de la página de quandl\n",
    "data = np.array([10.051101,  9.259127,  9.444813,  9.557723,  9.977324, 10.298326,\n",
    "       10.447217, 10.550506, 10.590784, 10.657418, 10.743085, 10.831965,\n",
    "       10.988435, 11.153055, 11.313326, 11.557165, 11.860136, 12.122511,\n",
    "       12.356448, 12.611391, 12.814569, 13.111372, 13.357134, 13.559012,\n",
    "       13.85861 , 14.135924, 14.436149])"
   ]
  },
  {
   "cell_type": "code",
   "execution_count": 72,
   "metadata": {},
   "outputs": [
    {
     "name": "stdout",
     "output_type": "stream",
     "text": [
      "    Año  Costo Electricidad\n",
      "0     1           10.051101\n",
      "1     2            9.259127\n",
      "2     3            9.444813\n",
      "3     4            9.557723\n",
      "4     5            9.977324\n",
      "5     6           10.298326\n",
      "6     7           10.447217\n",
      "7     8           10.550506\n",
      "8     9           10.590784\n",
      "9    10           10.657418\n",
      "10   11           10.743085\n",
      "11   12           10.831965\n",
      "12   13           10.988435\n",
      "13   14           11.153055\n",
      "14   15           11.313326\n",
      "15   16           11.557165\n",
      "16   17           11.860136\n",
      "17   18           12.122511\n",
      "18   19           12.356448\n",
      "19   20           12.611391\n",
      "20   21           12.814569\n",
      "21   22           13.111372\n",
      "22   23           13.357134\n",
      "23   24           13.559012\n",
      "24   25           13.858610\n",
      "25   26           14.135924\n",
      "26   27           14.436149\n"
     ]
    },
    {
     "data": {
      "image/png": "[encoded data removed]",
      "text/plain": [
       "<Figure size 432x288 with 1 Axes>"
      ]
     },
     "metadata": {
      "needs_background": "light"
     },
     "output_type": "display_data"
    }
   ],
   "source": [
    "i = np.arange(27)\n",
    "df= pd.DataFrame(index=i, columns=[\"Año\", \"Costo Electricidad\"])\n",
    "df[\"Año\"] = [1,2,3,4,5,6,7,8,9,10,11,12,13,14,15,16,17,18,19,20,21,22,23,24,25,26,27]\n",
    "df[\"Costo Electricidad\"] = [10.051101,  9.259127,  9.444813,  9.557723,  9.977324, 10.298326,\n",
    "       10.447217, 10.550506, 10.590784, 10.657418, 10.743085, 10.831965,\n",
    "       10.988435, 11.153055, 11.313326, 11.557165, 11.860136, 12.122511,\n",
    "       12.356448, 12.611391, 12.814569, 13.111372, 13.357134, 13.559012,\n",
    "       13.85861 , 14.135924, 14.436149]\n",
    "df.head(5)\n",
    "print (df)\n",
    "x = df[\"Año\"]\n",
    "y = df[\"Costo Electricidad\"]\n",
    "plt.figure()\n",
    "plt.scatter(x, y, s=5)\n",
    "plt.grid()"
   ]
  },
  {
   "cell_type": "markdown",
   "metadata": {},
   "source": [
    "1. Ajuste estos datos a polinomios de grado 1 hasta 3 (los datos en $x$ corresponden a los años de 2014 a 2040, sin embargo son valores muy grandes para elevarlos a una potencia, use una representación para estos años, por ejemplo $2014 \\rightarrow 0$ y $2040\\rightarrow 26$).\n",
    "\n",
    "2. Muestre las tres curvas ajustadas junto a los datos de los costos en un solo gráfico"
   ]
  },
  {
   "cell_type": "code",
   "execution_count": 73,
   "metadata": {},
   "outputs": [
    {
     "data": {
      "text/plain": [
       "      fun: 2.370488951814333\n",
       " hess_inv: array([[ 0.07661536, -0.00417866],\n",
       "       [-0.00417866,  0.00030014]])\n",
       "      jac: array([-3.06963921e-06,  4.30345535e-05])\n",
       "  message: 'Desired error not necessarily achieved due to precision loss.'\n",
       "     nfev: 77\n",
       "      nit: 3\n",
       "     njev: 22\n",
       "   status: 2\n",
       "  success: False\n",
       "        x: array([8.92900539, 0.18667058])"
      ]
     },
     "execution_count": 73,
     "metadata": {},
     "output_type": "execute_result"
    }
   ],
   "source": [
    "import scipy.optimize as opt\n",
    "\n",
    "def funcion_de_costo_1(theta, x, y) :\n",
    "    prediccion = theta[0] + theta[1]*x\n",
    "    error = y - prediccion\n",
    "    error_2 = error**2\n",
    "    return np.sum(error_2)\n",
    "\n",
    "theta_inicial_1 = np.random.rand(2)\n",
    "sol = opt.minimize(funcion_de_costo_1,\n",
    "                   theta_inicial_1,\n",
    "                   args=(x, y))\n",
    "costo_1 = sol.fun\n",
    "resultados_1 = sol.x\n",
    "sol"
   ]
  },
  {
   "cell_type": "code",
   "execution_count": 74,
   "metadata": {},
   "outputs": [
    {
     "data": {
      "text/plain": [
       "      fun: 0.8443845212931156\n",
       " hess_inv: array([[ 1.94039266e-01, -2.82082331e-02,  8.54806890e-04],\n",
       "       [-2.82082331e-02,  5.25705439e-03, -1.76849189e-04],\n",
       "       [ 8.54806890e-04, -1.76849189e-04,  6.31599077e-06]])\n",
       "      jac: array([4.09781933e-07, 7.87526369e-06, 1.74008310e-04])\n",
       "  message: 'Desired error not necessarily achieved due to precision loss.'\n",
       "     nfev: 159\n",
       "      nit: 9\n",
       "     njev: 37\n",
       "   status: 2\n",
       "  success: False\n",
       "        x: array([9.52314626e+00, 6.37449450e-02, 4.39020027e-03])"
      ]
     },
     "execution_count": 74,
     "metadata": {},
     "output_type": "execute_result"
    }
   ],
   "source": [
    "def funcion_de_costo_2(theta, x, y) :\n",
    "    prediccion = theta[0] + theta[1]*x + theta[2]*x**2\n",
    "    error = y - prediccion\n",
    "    error_2 = error**2\n",
    "    return np.sum(error_2)\n",
    "\n",
    "theta_inicial_2 = np.random.rand(3)\n",
    "sol = opt.minimize(funcion_de_costo_2,\n",
    "                   theta_inicial_2,\n",
    "                   args=(x, y))\n",
    "costo_2 = sol.fun\n",
    "resultados_2 = sol.x\n",
    "sol"
   ]
  },
  {
   "cell_type": "code",
   "execution_count": 75,
   "metadata": {},
   "outputs": [
    {
     "data": {
      "text/plain": [
       "      fun: 0.8404497314839552\n",
       " hess_inv: array([[ 3.96438829e-01, -1.07810998e-01,  7.83475500e-03,\n",
       "        -1.66191756e-04],\n",
       "       [-1.07810998e-01,  3.65631756e-02, -2.92187988e-03,\n",
       "         6.53582321e-05],\n",
       "       [ 7.83475500e-03, -2.92187988e-03,  2.47008593e-04,\n",
       "        -5.73078605e-06],\n",
       "       [-1.66191756e-04,  6.53582321e-05, -5.73078605e-06,\n",
       "         1.36447207e-07]])\n",
       "      jac: array([ 0.00000000e+00, -1.49011612e-08, -2.23517418e-08, -7.45058060e-08])\n",
       "  message: 'Optimization terminated successfully.'\n",
       "     nfev: 95\n",
       "      nit: 10\n",
       "     njev: 19\n",
       "   status: 0\n",
       "  success: True\n",
       "        x: array([9.48692554e+00, 7.79893806e-02, 3.14121011e-03, 2.97378598e-05])"
      ]
     },
     "execution_count": 75,
     "metadata": {},
     "output_type": "execute_result"
    }
   ],
   "source": [
    "def funcion_de_costo_3(theta, x, y) :\n",
    "    prediccion = theta[0] + theta[1]*x + theta[2]*x**2 + theta[3]*x**3\n",
    "    error = y - prediccion\n",
    "    error_2 = error**2\n",
    "    return np.sum(error_2)\n",
    "\n",
    "theta_inicial_3 = np.random.rand(4)\n",
    "sol = opt.minimize(funcion_de_costo_3,\n",
    "                   theta_inicial_3,\n",
    "                   args=(x, y))\n",
    "costo_3 = sol.fun\n",
    "resultados_3 = sol.x\n",
    "sol"
   ]
  },
  {
   "cell_type": "code",
   "execution_count": 76,
   "metadata": {},
   "outputs": [
    {
     "data": {
      "text/plain": [
       "<matplotlib.legend.Legend at 0x16ddb855970>"
      ]
     },
     "execution_count": 76,
     "metadata": {},
     "output_type": "execute_result"
    },
    {
     "data": {
      "image/png": "[encoded data removed]",
      "text/plain": [
       "<Figure size 432x288 with 1 Axes>"
      ]
     },
     "metadata": {
      "needs_background": "light"
     },
     "output_type": "display_data"
    }
   ],
   "source": [
    "xn = np.linspace(0, 30, 200)\n",
    "yn1 = resultados_1[0] + resultados_1[1]*xn\n",
    "yn2 = resultados_2[0] + resultados_2[1]*xn + resultados_2[2]*xn**2\n",
    "yn3 = resultados_3[0] + resultados_3[1]*xn + resultados_3[2]*xn**2 + resultados_3[3]*xn**3\n",
    "\n",
    "import matplotlib.pyplot as plt\n",
    "plt.figure()\n",
    "plt.scatter(x, y, s=5)\n",
    "plt.plot(xn, yn1, label=\"Lineal: \" + str(costo_1))\n",
    "plt.plot(xn, yn2, label= \"Cuadratica: \" + str(costo_2))\n",
    "plt.plot(xn, yn3, label=\"Cubica: \" + str(costo_3))\n",
    "plt.legend(loc=\"best\")\n"
   ]
  },
  {
   "cell_type": "code",
   "execution_count": 77,
   "metadata": {},
   "outputs": [
    {
     "data": {
      "image/png": "[encoded data removed]",
      "text/plain": [
       "<Figure size 432x288 with 1 Axes>"
      ]
     },
     "metadata": {
      "needs_background": "light"
     },
     "output_type": "display_data"
    }
   ],
   "source": [
    "plt.figure()\n",
    "plt.bar([1, 2, 3], [costo_1, costo_2, costo_3])\n",
    "plt.grid()"
   ]
  },
  {
   "cell_type": "markdown",
   "metadata": {},
   "source": [
    "---"
   ]
  },
  {
   "cell_type": "markdown",
   "metadata": {},
   "source": [
    "___\n",
    "### Problema 2\n",
    "\n",
    "El archivo `population_data.csv` contiene información histórica anual de México relativa a la población, nacimientos y muertes desde el año 1950 hasta el año 2015. La primer columna corresponde a los años, la segunda a la población, la tercera a los nacimientos y la última a los decesos.\n",
    "\n",
    "Tomado de: https://en.wikipedia.org/wiki/Demographics_of_Mexico.\n",
    "\n",
    "Importe estos datos usando la función `read_csv` del paquete `pandas`\n",
    "\n",
    "1. Usando los años como variable independiente $x$ y la población como variable dependiente $y$, ajustar polinomios de grado 1 hasta grado 3.\n",
    "\n",
    "    * Mostrar en un solo gráfico los datos de población contra los años, y los polinomios ajustados.\n",
    "\n",
    "    * Graficar el error cuadrático acumulado contra el número de términos.\n",
    "\n",
    "2. Repetir el punto 1 usando los nacimientos como variable dependiente $y$. Grafique las curvas ajustadas junto con los datos de nacimientos. Vea en un gráfico el error acumulado."
   ]
  },
  {
   "cell_type": "code",
   "execution_count": 78,
   "metadata": {},
   "outputs": [],
   "source": [
    "data = pd.read_csv('population_data.csv')"
   ]
  },
  {
   "cell_type": "code",
   "execution_count": 79,
   "metadata": {},
   "outputs": [
    {
     "data": {
      "image/png": "[encoded data removed]",
      "text/plain": [
       "<Figure size 432x288 with 1 Axes>"
      ]
     },
     "metadata": {
      "needs_background": "light"
     },
     "output_type": "display_data"
    }
   ],
   "source": [
    "# Se muestra la gráfica. Vea como los datos son escalados, esto le ayudará en el cálculo\n",
    "# de la regresión.\n",
    "\n",
    "plt.plot(data.values[:,0],data.values[:,1]/1000,label=data.columns[1]+' en miles')\n",
    "plt.plot(data.values[:,0],data.values[:,2]/10000,'r',label=data.columns[2]+' en decenas de miles')\n",
    "plt.legend(loc=2)\n",
    "plt.xlabel(data.columns[0])\n",
    "plt.grid()"
   ]
  },
  {
   "cell_type": "markdown",
   "metadata": {},
   "source": [
    "---"
   ]
  },
  {
   "cell_type": "markdown",
   "metadata": {},
   "source": [
    "# Población"
   ]
  },
  {
   "cell_type": "code",
   "execution_count": 80,
   "metadata": {},
   "outputs": [
    {
     "data": {
      "image/png": "[encoded data removed]",
      "text/plain": [
       "<Figure size 432x288 with 1 Axes>"
      ]
     },
     "metadata": {
      "needs_background": "light"
     },
     "output_type": "display_data"
    }
   ],
   "source": [
    "import matplotlib.pyplot as plt\n",
    "\n",
    "x = data.values[:,0]-1950\n",
    "y = data.values[:,1]/1000\n",
    "plt.figure()\n",
    "plt.scatter(x, y, s=5)\n",
    "plt.grid()\n"
   ]
  },
  {
   "cell_type": "code",
   "execution_count": 81,
   "metadata": {},
   "outputs": [
    {
     "data": {
      "text/plain": [
       "      fun: 212.13716954429185\n",
       " hess_inv: array([[ 2.96246081e-02, -6.78426179e-04],\n",
       "       [-6.78426179e-04,  2.08746516e-05]])\n",
       "      jac: array([-9.53674316e-06, -9.53674316e-06])\n",
       "  message: 'Optimization terminated successfully.'\n",
       "     nfev: 18\n",
       "      nit: 4\n",
       "     njev: 6\n",
       "   status: 0\n",
       "  success: True\n",
       "        x: array([24.1380165 ,  1.54397338])"
      ]
     },
     "execution_count": 81,
     "metadata": {},
     "output_type": "execute_result"
    }
   ],
   "source": [
    "import scipy.optimize as opt\n",
    "\n",
    "def funcion_de_costo_1(theta, x, y) :\n",
    "    prediccion = theta[0] + theta[1]*x\n",
    "    error = y - prediccion\n",
    "    error_2 = error**2\n",
    "    return np.sum(error_2)\n",
    "\n",
    "theta_inicial_1 = np.random.rand(2)\n",
    "sol = opt.minimize(funcion_de_costo_1,\n",
    "                   theta_inicial_1,\n",
    "                   args=(x, y))\n",
    "costo_1 = sol.fun\n",
    "resultados_1 = sol.x\n",
    "sol"
   ]
  },
  {
   "cell_type": "code",
   "execution_count": 82,
   "metadata": {},
   "outputs": [
    {
     "data": {
      "text/plain": [
       "      fun: 210.94162188654488\n",
       " hess_inv: array([[ 6.42110243e-02, -3.92090313e-03,  4.98842637e-05],\n",
       "       [-3.92090313e-03,  3.24856888e-04, -4.67664992e-06],\n",
       "       [ 4.98842637e-05, -4.67664992e-06,  7.19484613e-08]])\n",
       "      jac: array([3.81469727e-06, 3.81469727e-06, 3.81469727e-06])\n",
       "  message: 'Optimization terminated successfully.'\n",
       "     nfev: 32\n",
       "      nit: 4\n",
       "     njev: 8\n",
       "   status: 0\n",
       "  success: True\n",
       "        x: array([2.44254174e+01, 1.51702957e+00, 4.14520030e-04])"
      ]
     },
     "execution_count": 82,
     "metadata": {},
     "output_type": "execute_result"
    }
   ],
   "source": [
    "def funcion_de_costo_2(theta, x, y) :\n",
    "    prediccion = theta[0] + theta[1]*x + theta[2]*x**2\n",
    "    error = y - prediccion\n",
    "    error_2 = error**2\n",
    "    return np.sum(error_2)\n",
    "\n",
    "theta_inicial_2 = np.random.rand(3)\n",
    "sol = opt.minimize(funcion_de_costo_2,\n",
    "                   theta_inicial_2,\n",
    "                   args=(x, y))\n",
    "costo_2 = sol.fun\n",
    "resultados_2 = sol.x\n",
    "sol"
   ]
  },
  {
   "cell_type": "code",
   "execution_count": 83,
   "metadata": {},
   "outputs": [
    {
     "data": {
      "text/plain": [
       "      fun: 25.25499360390708\n",
       " hess_inv: array([[ 1.08421006e-01, -1.24083437e-02,  3.78801534e-04,\n",
       "        -3.37330452e-06],\n",
       "       [-1.24083437e-02,  1.95431564e-03, -6.78245366e-05,\n",
       "         6.47635845e-07],\n",
       "       [ 3.78801534e-04, -6.78245366e-05,  2.51754869e-06,\n",
       "        -2.50694160e-08],\n",
       "       [-3.37330452e-06,  6.47635845e-07, -2.50694160e-08,\n",
       "         2.56888935e-10]])\n",
       "      jac: array([-7.33709335e-03, -1.77553415e-01, -3.62434292e+00,  2.49146130e+01])\n",
       "  message: 'Desired error not necessarily achieved due to precision loss.'\n",
       "     nfev: 297\n",
       "      nit: 9\n",
       "     njev: 57\n",
       "   status: 2\n",
       "  success: False\n",
       "        x: array([ 2.85134749e+01,  7.32202639e-01,  3.08314906e-02, -3.11966842e-04])"
      ]
     },
     "execution_count": 83,
     "metadata": {},
     "output_type": "execute_result"
    }
   ],
   "source": [
    "def funcion_de_costo_3(theta, x, y) :\n",
    "    prediccion = theta[0] + theta[1]*x + theta[2]*x**2 + theta[3]*x**3\n",
    "    error = y - prediccion\n",
    "    error_2 = error**2\n",
    "    return np.sum(error_2)\n",
    "\n",
    "theta_inicial_3 = np.random.rand(4)\n",
    "sol = opt.minimize(funcion_de_costo_3,\n",
    "                   theta_inicial_3,\n",
    "                   args=(x, y))\n",
    "costo_3 = sol.fun\n",
    "resultados_3 = sol.x\n",
    "sol"
   ]
  },
  {
   "cell_type": "code",
   "execution_count": 84,
   "metadata": {},
   "outputs": [
    {
     "data": {
      "text/plain": [
       "array([ 0,  1,  2,  3,  4,  5,  6,  7,  8,  9, 10, 11, 12, 13, 14, 15, 16,\n",
       "       17, 18, 19, 20, 21, 22, 23, 24, 25, 26, 27, 28, 29, 30, 31, 32, 33,\n",
       "       34, 35, 36, 37, 38, 39, 40, 41, 42, 43, 44, 45, 46, 47, 48, 49, 50,\n",
       "       51, 52, 53, 54, 55, 56, 57, 58, 59, 60, 61, 62, 63, 64, 65],\n",
       "      dtype=int64)"
      ]
     },
     "execution_count": 84,
     "metadata": {},
     "output_type": "execute_result"
    }
   ],
   "source": [
    "x"
   ]
  },
  {
   "cell_type": "code",
   "execution_count": 85,
   "metadata": {},
   "outputs": [
    {
     "data": {
      "text/plain": [
       "<matplotlib.legend.Legend at 0x16ddbb2d400>"
      ]
     },
     "execution_count": 85,
     "metadata": {},
     "output_type": "execute_result"
    },
    {
     "data": {
      "image/png": "[encoded data removed]",
      "text/plain": [
       "<Figure size 432x288 with 1 Axes>"
      ]
     },
     "metadata": {
      "needs_background": "light"
     },
     "output_type": "display_data"
    }
   ],
   "source": [
    "xn = np.linspace(0, 70, 500)\n",
    "yn1 = resultados_1[0] + resultados_1[1]*xn\n",
    "yn2 = resultados_2[0] + resultados_2[1]*xn + resultados_2[2]*xn**2\n",
    "yn3 = resultados_3[0] + resultados_3[1]*xn + resultados_3[2]*xn**2 + resultados_3[3]*xn**3\n",
    "\n",
    "import matplotlib.pyplot as plt\n",
    "plt.figure()\n",
    "plt.scatter(x + 1950, y, s=5)\n",
    "plt.plot(xn + 1950, yn1, label=\"Lineal\")\n",
    "plt.plot(xn + 1950, yn2, label=\"Cuadratica\")\n",
    "plt.plot(xn + 1950, yn3, label=\"Cubica\")\n",
    "plt.legend(loc=\"best\")"
   ]
  },
  {
   "cell_type": "code",
   "execution_count": 86,
   "metadata": {},
   "outputs": [
    {
     "data": {
      "image/png": "[encoded data removed]",
      "text/plain": [
       "<Figure size 432x288 with 1 Axes>"
      ]
     },
     "metadata": {
      "needs_background": "light"
     },
     "output_type": "display_data"
    }
   ],
   "source": [
    "plt.figure()\n",
    "plt.bar([1, 2, 3], [costo_1, costo_2, costo_3])\n",
    "plt.grid()"
   ]
  },
  {
   "cell_type": "markdown",
   "metadata": {},
   "source": [
    "# Nacimientos"
   ]
  },
  {
   "cell_type": "code",
   "execution_count": 87,
   "metadata": {},
   "outputs": [
    {
     "data": {
      "image/png": "[encoded data removed]",
      "text/plain": [
       "<Figure size 432x288 with 1 Axes>"
      ]
     },
     "metadata": {
      "needs_background": "light"
     },
     "output_type": "display_data"
    }
   ],
   "source": [
    "x = data.values[:,0]-1950\n",
    "y = data.values[:,2]/10000\n",
    "plt.figure()\n",
    "plt.scatter(x, y, s=5)\n",
    "plt.grid()"
   ]
  },
  {
   "cell_type": "code",
   "execution_count": 88,
   "metadata": {},
   "outputs": [
    {
     "data": {
      "text/plain": [
       "      fun: 47379.12262316294\n",
       " hess_inv: array([[ 1.53975381e-04, -7.94633250e-06],\n",
       "       [-7.94633250e-06,  2.81954225e-06]])\n",
       "      jac: array([0.        , 0.00097656])\n",
       "  message: 'Desired error not necessarily achieved due to precision loss.'\n",
       "     nfev: 36\n",
       "      nit: 8\n",
       "     njev: 12\n",
       "   status: 2\n",
       "  success: False\n",
       "        x: array([156.29922306,   2.19763686])"
      ]
     },
     "execution_count": 88,
     "metadata": {},
     "output_type": "execute_result"
    }
   ],
   "source": [
    "import scipy.optimize as opt\n",
    "\n",
    "def funcion_de_costo_1(theta, x, y) :\n",
    "    prediccion = theta[0] + theta[1]*x\n",
    "    error = y - prediccion\n",
    "    error_2 = error**2\n",
    "    return np.sum(error_2)\n",
    "\n",
    "theta_inicial_1 = np.random.rand(2)\n",
    "sol = opt.minimize(funcion_de_costo_1,\n",
    "                   theta_inicial_1,\n",
    "                   args=(x, y))\n",
    "costo_1 = sol.fun\n",
    "resultados_1 = sol.x\n",
    "sol"
   ]
  },
  {
   "cell_type": "code",
   "execution_count": 89,
   "metadata": {},
   "outputs": [
    {
     "data": {
      "text/plain": [
       "      fun: 4929.21048963823\n",
       " hess_inv: array([[ 1.69528644e-02, -8.37724656e-07, -6.57085574e-06],\n",
       "       [-8.37724656e-07,  6.96163625e-08, -1.00362740e-09],\n",
       "       [-6.57085574e-06, -1.00362740e-09,  4.64625236e-09]])\n",
       "      jac: array([0.00000000e+00, 0.00000000e+00, 6.10351562e-05])\n",
       "  message: 'Desired error not necessarily achieved due to precision loss.'\n",
       "     nfev: 175\n",
       "      nit: 7\n",
       "     njev: 41\n",
       "   status: 2\n",
       "  success: False\n",
       "        x: array([ 1.02110656e+02,  7.27781471e+00, -7.81565811e-02])"
      ]
     },
     "execution_count": 89,
     "metadata": {},
     "output_type": "execute_result"
    }
   ],
   "source": [
    "def funcion_de_costo_2(theta, x, y) :\n",
    "    prediccion = theta[0] + theta[1]*x + theta[2]*x**2\n",
    "    error = y - prediccion\n",
    "    error_2 = error**2\n",
    "    return np.sum(error_2)\n",
    "\n",
    "theta_inicial_2 = np.random.rand(3)\n",
    "sol = opt.minimize(funcion_de_costo_2,\n",
    "                   theta_inicial_2,\n",
    "                   args=(x, y))\n",
    "costo_2 = sol.fun\n",
    "resultados_2 = sol.x\n",
    "sol"
   ]
  },
  {
   "cell_type": "code",
   "execution_count": 90,
   "metadata": {},
   "outputs": [
    {
     "data": {
      "text/plain": [
       "      fun: 4417.826797339631\n",
       " hess_inv: array([[ 1.08421552e-01, -1.24084153e-02,  3.78831395e-04,\n",
       "        -3.37381646e-06],\n",
       "       [-1.24084153e-02,  1.95428508e-03, -6.78277542e-05,\n",
       "         6.47703606e-07],\n",
       "       [ 3.78831395e-04, -6.78277542e-05,  2.51947091e-06,\n",
       "        -2.51027935e-08],\n",
       "       [-3.37381646e-06,  6.47703606e-07, -2.51027935e-08,\n",
       "         2.57464542e-10]])\n",
       "      jac: array([9.13696289e-02, 8.23944092e+00, 3.35878845e+02, 1.93956855e+04])\n",
       "  message: 'Desired error not necessarily achieved due to precision loss.'\n",
       "     nfev: 257\n",
       "      nit: 4\n",
       "     njev: 49\n",
       "   status: 2\n",
       "  success: False\n",
       "        x: array([ 1.08840473e+02,  5.98471579e+00, -2.80212829e-02, -5.14308814e-04])"
      ]
     },
     "execution_count": 90,
     "metadata": {},
     "output_type": "execute_result"
    }
   ],
   "source": [
    "def funcion_de_costo_3(theta, x, y) :\n",
    "    prediccion = theta[0] + theta[1]*x + theta[2]*x**2 + theta[3]*x**3\n",
    "    error = y - prediccion\n",
    "    error_2 = error**2\n",
    "    return np.sum(error_2)\n",
    "\n",
    "theta_inicial_3 = np.random.rand(4)\n",
    "sol = opt.minimize(funcion_de_costo_3,\n",
    "                   theta_inicial_3,\n",
    "                   args=(x, y))\n",
    "costo_3 = sol.fun\n",
    "resultados_3 = sol.x\n",
    "sol"
   ]
  },
  {
   "cell_type": "code",
   "execution_count": 91,
   "metadata": {},
   "outputs": [
    {
     "data": {
      "text/plain": [
       "<matplotlib.legend.Legend at 0x16ddb61d5b0>"
      ]
     },
     "execution_count": 91,
     "metadata": {},
     "output_type": "execute_result"
    },
    {
     "data": {
      "image/png": "[encoded data removed]",
      "text/plain": [
       "<Figure size 432x288 with 1 Axes>"
      ]
     },
     "metadata": {
      "needs_background": "light"
     },
     "output_type": "display_data"
    }
   ],
   "source": [
    "xn = np.linspace(0, 70, 500)\n",
    "yn1 = resultados_1[0] + resultados_1[1]*xn\n",
    "yn2 = resultados_2[0] + resultados_2[1]*xn + resultados_2[2]*xn**2\n",
    "yn3 = resultados_3[0] + resultados_3[1]*xn + resultados_3[2]*xn**2 + resultados_3[3]*xn**3\n",
    "\n",
    "import matplotlib.pyplot as plt\n",
    "plt.figure()\n",
    "plt.scatter(x + 1950, y, s=5)\n",
    "plt.plot(xn + 1950, yn1, label=\"Lineal\")\n",
    "plt.plot(xn + 1950, yn2, label=\"Cuadratica\")\n",
    "plt.plot(xn + 1950, yn3, label=\"Cubica\")\n",
    "plt.legend(loc=\"best\")"
   ]
  },
  {
   "cell_type": "markdown",
   "metadata": {},
   "source": [
    "0 es el año 1950 y 70 es el año 2020"
   ]
  },
  {
   "cell_type": "code",
   "execution_count": 92,
   "metadata": {},
   "outputs": [
    {
     "data": {
      "image/png": "[encoded data removed]",
      "text/plain": [
       "<Figure size 432x288 with 1 Axes>"
      ]
     },
     "metadata": {
      "needs_background": "light"
     },
     "output_type": "display_data"
    }
   ],
   "source": [
    "plt.figure()\n",
    "plt.bar([1, 2, 3], [costo_1, costo_2, costo_3])\n",
    "plt.grid()"
   ]
  },
  {
   "cell_type": "code",
   "execution_count": null,
   "metadata": {},
   "outputs": [],
   "source": []
  },
  {
   "cell_type": "code",
   "execution_count": null,
   "metadata": {},
   "outputs": [],
   "source": []
  }
 ],
 "metadata": {
  "kernelspec": {
   "display_name": "Python 3 (ipykernel)",
   "language": "python",
   "name": "python3"
  },
  "language_info": {
   "codemirror_mode": {
    "name": "ipython",
    "version": 3
   },
   "file_extension": ".py",
   "mimetype": "text/x-python",
   "name": "python",
   "nbconvert_exporter": "python",
   "pygments_lexer": "ipython3",
   "version": "3.9.7"
  }
 },
 "nbformat": 4,
 "nbformat_minor": 2
}
