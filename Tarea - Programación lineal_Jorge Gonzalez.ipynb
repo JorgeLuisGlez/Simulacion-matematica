{
 "cells": [
  {
   "cell_type": "markdown",
   "metadata": {},
   "source": [
    "# Tarea - Programación lineal"
   ]
  },
  {
   "cell_type": "markdown",
   "metadata": {},
   "source": [
    "### Diseño de la Dieta Óptima\n",
    "\n",
    "Se quiere producir comida para gatos de la manera más barata, no obstante se debe también asegurar que se cumplan los datos requeridos de analisis nutricional. Por lo que se quiere variar la cantidad de cada ingrediente para cumplir con los estandares nutricionales. Los requisitos que se tienen es que en $100$ gramos, se deben tener **por lo menos** $8$ gramos de proteína y $6$ gramos de grasa. Así mismo, no se debe tener más de $2$ gramos de fibra y $0.4$ gramos de sal.  \n",
    "\n",
    "Los datos nutricionales se pueden obtener de la siguiente tabla:\n",
    "\n",
    "Ingrediente|Proteína|Grasa|Fibra|Sal\n",
    ":----|----|----|----|----\n",
    "Pollo|  10.0%|08.0%|00.1%|00.2%\n",
    "Carne|  20.0%|10.0%|00.5%|00.5%\n",
    "Cordero|15.0%|11.0%|00.5%|00.7%\n",
    "Arroz|  00.0%|01.0%|10.0%|00.2%\n",
    "Trigo|  04.0%|01.0%|15.0%|00.8%\n",
    "Gel|    00.0%|00.0%|00.0%|00.0%\n",
    "\n",
    "Los costos de cada producto son:\n",
    "\n",
    "Ingrediente|Costo por gramo\n",
    ":----|----\n",
    "Pollo|$\\$$0.013\n",
    "Carne|$\\$$0.008\n",
    "Cordero|$\\$$0.010\n",
    "Arroz|$\\$$0.002\n",
    "Trigo|$\\$$0.005\n",
    "Gel|$\\$$0.001    \n",
    "\n",
    "Lo que se busca optimizar en este caso es la cantidad de productos que se debe utilizar en la comida de gato, minimizando el costo total. Para simplificar la notación use las siguientes variables: \n",
    "\n",
    "+ $x_1:$ Gramos de pollo  \n",
    "+ $x_2:$ Gramos de carne  \n",
    "+ $x_3:$ Gramos de cordero  \n",
    "+ $x_4:$ Gramos de arroz  \n",
    "+ $x_5:$ Gramos de trigo  \n",
    "+ $x_6:$ Gramos de gel\n",
    "\n",
    "La tarea consiste en plantear el problemade programación lineal que permita satisfacer las necesidades alimenticias del gato al tiempo que minimice el costo total y resolverlo con `linprog`."
   ]
  },
  {
   "cell_type": "markdown",
   "metadata": {},
   "source": [
    "$ min =0.013 x1 + 0.008 x2 + 0.01 x3 + 0.002 x4 + 0.005 x5 + 0.001 x6$\n",
    "\n",
    "$-0.1 x1 - 0.2 x2 - 0.15 x3 - 0.04 x5 \\leq -8$\n",
    "\n",
    "$-0.08 x1 - 0.1 x2 - 0.11 x3 - 0.01 x4 - 0.01 x5 \\leq -6 $\n",
    "\n",
    "$ 0.001 x1 + 0.005 x2 + 0.005 x3 + 0.1 x4 + 0.15 x5 \\leq 2 $\n",
    "\n",
    "$ 0.002 x1 + 0.005 x2 + 0.007 x3 + 0.002 x4 + 0.008 x5 \\leq 0.4 $\n"
   ]
  },
  {
   "cell_type": "code",
   "execution_count": 2,
   "metadata": {},
   "outputs": [
    {
     "name": "stdout",
     "output_type": "stream",
     "text": [
      "[ 0. 60.  0.  0.  0.  0.]\n",
      "0.48\n"
     ]
    }
   ],
   "source": [
    "import scipy.optimize as opt\n",
    "import numpy as np\n",
    "c=np.array([0.013,0.008,0.01,0.002,0.005,0.001])\n",
    "A=np.array([[ -0.1, -0.2,-0.15,    0,-0.04, 0],\n",
    "            [-0.08, -0.1,-0.11,-0.01,-0.01, 0],\n",
    "            [0.001,0.005,0.005, 0.01,0.015, 0],\n",
    "            [0.002,0.005,0.007,0.002,0.008, 0],])\n",
    "b=np.array([-8,-6,2,0.4])\n",
    "\n",
    "respuesta=opt.linprog(c,A,b, method=\"simplex\")\n",
    "print(respuesta.x)\n",
    "print(respuesta.fun)"
   ]
  },
  {
   "cell_type": "markdown",
   "metadata": {},
   "source": [
    "### Problema de distribución de energía eléctrica\n",
    "\n",
    "La Comisión Federal de Electricidad **(CFE)** dispone de cuatro plantas de generación para satisfacer la demanda diaria eléctrica en cuatro ciudades, Guadalajara, León y Morelia. Las plantas $1$, $2$ y $3$ pueden satisfacer $80$, $40$ y $60$ millones de KW al día respectivamente. Las necesidades de las ciudades de Guadalajara, León y Morelia son de $70$, $40$ y $70$ millones de Kw al día respectivamente. \n",
    "\n",
    "\n",
    "Los costos asociados al envío de suministro energético por cada millón de Kw entre cada planta y cada ciudad son los registrados en la siguiente tabla. \n",
    "\n",
    "-|Guadalajara|León|Morelia\n",
    ":----|----|----|----\n",
    "Planta 1|5|2|7\n",
    "Planta 2|3|6|6\n",
    "Planta 3|6|1|2\n",
    "\n",
    "Y por último, las restricciones del problema, van a estar dadas por las capacidades de oferta y demanda de cada planta (en millones de KW) y cada ciudad.\n",
    "\n",
    "Para simplificar la notación use las siguientes variables:\n",
    "\n",
    "+ $x_1$: Kw (en millones) distribuidos de la Planta 1 a Guadalajara\n",
    "+ $x_2$: Kw (en millones) distribuidos de la Planta 1 a León\n",
    "+ $x_3$: Kw (en millones) distribuidos de la Planta 1 a Morelia\n",
    "+ $x_4$: Kw (en millones) distribuidos de la Planta 2 a Guadalajara\n",
    "+ $x_5$: Kw (en millones) distribuidos de la Planta 2 a León\n",
    "+ $x_6$: Kw (en millones) distribuidos de la Planta 2 a Morelia\n",
    "+ $x_7$: Kw (en millones) distribuidos de la Planta 3 a Guadalajara\n",
    "+ $x_8$: Kw (en millones) distribuidos de la Planta 3 a León\n",
    "+ $x_9$: Kw (en millones) distribuidos de la Planta 3 a Morelia\n",
    "\n",
    "La tarea consiste en plantear el problema de programación lineal que permita satisfacer las necesidades de todas las ciudades al tiempo que minimice los costos asociados a la distribución y resolverlo con `linprog`."
   ]
  },
  {
   "cell_type": "markdown",
   "metadata": {},
   "source": [
    "$min=5x_1+2x_2+7x_3+3x_4+6x_5+6x_6+6x_7+x_8+2x_9$\n",
    "\n",
    "$x_1+x_2+x_3\\leq80$\n",
    "\n",
    "$x_4+x_5+x_6\\leq40$\n",
    "\n",
    "$x_7+x_8+x_9\\leq60$\n",
    "\n",
    "$-x_1-x_4-x_7\\leq-70$\n",
    "\n",
    "$-x_2-x_5-x_8\\leq-40$\n",
    "\n",
    "$-x_3-x_6-x_9\\leq-70$"
   ]
  },
  {
   "cell_type": "code",
   "execution_count": 3,
   "metadata": {},
   "outputs": [
    {
     "name": "stdout",
     "output_type": "stream",
     "text": [
      "[30. 40. 10. 40.  0.  0.  0.  0. 60.]\n"
     ]
    },
    {
     "data": {
      "text/plain": [
       "540.0"
      ]
     },
     "execution_count": 3,
     "metadata": {},
     "output_type": "execute_result"
    }
   ],
   "source": [
    "import scipy.optimize as opt\n",
    "import numpy as np\n",
    "c=np.array([5,2,7,3,6,6,6,1,2])\n",
    "A=np.array([[ 1, 1, 1, 0, 0, 0, 0, 0, 0],\n",
    "            [ 0, 0, 0, 1, 1, 1, 0, 0, 0],\n",
    "            [ 0, 0, 0, 0, 0, 0, 1, 1, 1],\n",
    "            [-1, 0, 0,-1, 0, 0,-1, 0, 0],\n",
    "            [ 0,-1, 0, 0,-1, 0, 0,-1, 0],\n",
    "            [ 0, 0,-1, 0, 0,-1, 0, 0,-1]])\n",
    "b=np.array([80,40,60,-70,-40,-70])\n",
    "\n",
    "respuesta=opt.linprog(c,A,b, method=\"simplex\")\n",
    "print(respuesta.x)\n",
    "respuesta.fun"
   ]
  },
  {
   "cell_type": "markdown",
   "metadata": {},
   "source": [
    "## 5. Optimización de inversión en bonos\n",
    "\n",
    "**Problema para puntos extra**"
   ]
  },
  {
   "cell_type": "markdown",
   "metadata": {},
   "source": [
    "El objetivo de este problema es determinar la mejor estrategia de inversión, dados diferentes tipos de bono, la máxima cantidad que puede ser invertida en cada bono, el porcentaje de retorno y los años de madurez. También hay una cantidad fija de dinero disponible ($\\$750,000$). Por lo menos la mitad de este dinero debe ser invertido en bonos con 10 años o más para la madurez. Se puede invertir un máximo del $25\\%$ de esta cantidad en cada bono. Finalmente, hay otra restricción que no permite usar más de $35\\%$ en bonos de alto riesgo.\n",
    "\n",
    "Existen seis (6) opciones de inversión con las letras correspondientes $A_i$\n",
    "\n",
    "1. $A_1$:(Tasa de retorno=$8.65\\%$; Años para la madurez=11, Riesgo=Bajo)\n",
    "1. $A_2$:(Tasa de retorno=$9.50\\%$; Años para la madurez=10, Riesgo=Alto)\n",
    "1. $A_3$:(Tasa de retorno=$10.00\\%$; Años para la madurez=6, Riesgo=Alto)\n",
    "1. $A_4$:(Tasa de retorno=$8.75\\%$; Años para la madurez=10, Riesgo=Bajo)\n",
    "1. $A_5$:(Tasa de retorno=$9.25\\%$; Años para la madurez=7, Riesgo=Alto)\n",
    "1. $A_6$:(Tasa de retorno=$9.00\\%$; Años para la madurez=13, Riesgo=Bajo)\n",
    "\n",
    "Lo que se quiere entonces es maximizar el retorno que deja la inversión.\n",
    "\n",
    "Este problema puede ser resuelto con programación lineal. Formalmente, puede ser descrito como:\n",
    "\n",
    "$$\\max_{A_1,A_2,...,A_6}\\sum^{6}_{i=1} A_iR_i,$$\n",
    "\n",
    "donde $A_i$ representa la cantidad invertida en la opción, y $R_i$ representa la tasa de retorno respectiva."
   ]
  },
  {
   "cell_type": "markdown",
   "metadata": {},
   "source": [
    "$ min =-0.0865 A1-0.095 A2-0.10 A3-0.0875 A4-0.0925 A5-0.09 A6$\n",
    "\n",
    "$A1+A2+A3+A4+A5+A6\\leq 750000$\n",
    "\n",
    "$-A1-A2-A4-A6\\leq -375000$\n",
    "\n",
    "$A1\\leq 187500$\n",
    "\n",
    "$A2\\leq 187500$\n",
    "\n",
    "$A3\\leq 187500$\n",
    "\n",
    "$A4\\leq 187500$\n",
    "\n",
    "$A5\\leq 187500$\n",
    "\n",
    "$A6\\leq 187500$\n",
    "\n",
    "$A2+A3+A5\\leq 262500$"
   ]
  },
  {
   "cell_type": "code",
   "execution_count": 4,
   "metadata": {},
   "outputs": [
    {
     "name": "stdout",
     "output_type": "stream",
     "text": [
      "[112500.  75000. 187500. 187500.      0. 187500.]\n",
      "-819255.0\n"
     ]
    },
    {
     "data": {
      "text/plain": [
       "-69255.0"
      ]
     },
     "execution_count": 4,
     "metadata": {},
     "output_type": "execute_result"
    }
   ],
   "source": [
    "import scipy.optimize as opt\n",
    "import numpy as np\n",
    "c=np.array([-1.0856,-1.095,-1.1,-1.0875,-1.09,-1.0925])\n",
    "A=np.array([[ 1, 1, 1, 1, 1, 1],\n",
    "            [-1,-1, 0,-1, 0,-1],\n",
    "            [ 1, 0, 0, 0, 0, 0],\n",
    "            [ 0, 1, 0, 0, 0, 0],\n",
    "            [ 0, 0, 1, 0, 0, 0],\n",
    "            [ 0, 0, 0, 1, 0, 0],\n",
    "            [ 0, 0, 0, 0, 1, 0],\n",
    "            [ 0, 0, 0, 0, 0, 1],\n",
    "            [ 0, 1, 1, 0, 1, 0]])\n",
    "b=np.array([750000,\n",
    "            -375000,\n",
    "             187500,\n",
    "             187500,\n",
    "             187500,\n",
    "             187500,\n",
    "             187500,\n",
    "             187500,\n",
    "             262500])\n",
    "\n",
    "respuesta=opt.linprog(c,A,b, method=\"simplex\")\n",
    "print(respuesta.x)\n",
    "print(respuesta.fun)\n",
    "Ganancia=respuesta.fun+750000\n",
    "Ganancia"
   ]
  },
  {
   "cell_type": "code",
   "execution_count": null,
   "metadata": {},
   "outputs": [],
   "source": []
  }
 ],
 "metadata": {
  "kernelspec": {
   "display_name": "Python 3 (ipykernel)",
   "language": "python",
   "name": "python3"
  },
  "language_info": {
   "codemirror_mode": {
    "name": "ipython",
    "version": 3
   },
   "file_extension": ".py",
   "mimetype": "text/x-python",
   "name": "python",
   "nbconvert_exporter": "python",
   "pygments_lexer": "ipython3",
   "version": "3.9.7"
  }
 },
 "nbformat": 4,
 "nbformat_minor": 2
}
