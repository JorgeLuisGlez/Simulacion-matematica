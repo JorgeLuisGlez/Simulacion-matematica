{
 "cells": [
  {
   "cell_type": "markdown",
   "metadata": {},
   "source": [
    "# TAREA"
   ]
  },
  {
   "cell_type": "markdown",
   "metadata": {},
   "source": [
    "## Integración Montecarlo"
   ]
  },
  {
   "cell_type": "markdown",
   "metadata": {},
   "source": [
    "1. Realizar las siguientes integrales. Poner los resultados en una tabla cuyas filas correspondan a la cantidad de términos utilizados en la aproximación (usar 10, 100, 1000, 10000 y 100000 términos) y cuyas columnas correspondan a las funciones.\n",
    "    + $\\int_{1}^{3} e^{x}\\log(x)\\text{d}x$.\n",
    "    + $\\int_1^3 \\sin(x)\\ln(x) \\text{d}x$"
   ]
  },
  {
   "cell_type": "code",
   "execution_count": 40,
   "metadata": {},
   "outputs": [],
   "source": [
    "import numpy as np\n",
    "import pandas as pd\n",
    "\n",
    "def montecarlo(f, a, b, N) :\n",
    "    u = np.random.uniform(a, b, size=N)\n",
    "    return((b-a)*np.mean(f(u)))"
   ]
  },
  {
   "cell_type": "code",
   "execution_count": 41,
   "metadata": {},
   "outputs": [
    {
     "data": {
      "text/html": [
       "<div>\n",
       "<style scoped>\n",
       "    .dataframe tbody tr th:only-of-type {\n",
       "        vertical-align: middle;\n",
       "    }\n",
       "\n",
       "    .dataframe tbody tr th {\n",
       "        vertical-align: top;\n",
       "    }\n",
       "\n",
       "    .dataframe thead th {\n",
       "        text-align: right;\n",
       "    }\n",
       "</style>\n",
       "<table border=\"1\" class=\"dataframe\">\n",
       "  <thead>\n",
       "    <tr style=\"text-align: right;\">\n",
       "      <th></th>\n",
       "      <th>Aproximación función 1</th>\n",
       "      <th>Aproximación función 2</th>\n",
       "    </tr>\n",
       "  </thead>\n",
       "  <tbody>\n",
       "    <tr>\n",
       "      <th>10.0</th>\n",
       "      <td>18.90497</td>\n",
       "      <td>0.877423</td>\n",
       "    </tr>\n",
       "    <tr>\n",
       "      <th>100.0</th>\n",
       "      <td>14.20041</td>\n",
       "      <td>0.779607</td>\n",
       "    </tr>\n",
       "    <tr>\n",
       "      <th>1000.0</th>\n",
       "      <td>13.968853</td>\n",
       "      <td>0.867316</td>\n",
       "    </tr>\n",
       "    <tr>\n",
       "      <th>10000.0</th>\n",
       "      <td>14.000405</td>\n",
       "      <td>0.872142</td>\n",
       "    </tr>\n",
       "    <tr>\n",
       "      <th>100000.0</th>\n",
       "      <td>14.065729</td>\n",
       "      <td>0.869111</td>\n",
       "    </tr>\n",
       "  </tbody>\n",
       "</table>\n",
       "</div>"
      ],
      "text/plain": [
       "         Aproximación función 1 Aproximación función 2\n",
       "10.0                   18.90497               0.877423\n",
       "100.0                  14.20041               0.779607\n",
       "1000.0                13.968853               0.867316\n",
       "10000.0               14.000405               0.872142\n",
       "100000.0              14.065729               0.869111"
      ]
     },
     "execution_count": 41,
     "metadata": {},
     "output_type": "execute_result"
    }
   ],
   "source": [
    "\n",
    "def f1(x):\n",
    "    return np.exp(x) * np.log(x)\n",
    "def f2(x):\n",
    "    return np.sin(x) * np.log(x)\n",
    "\n",
    "N = np.logspace(1, 5, 5)\n",
    "table = pd.DataFrame(index=N, columns=[ \"Aproximación función 1\", \"Aproximación función 2\"])\n",
    "\n",
    "for i in N :\n",
    "    table.loc[i, \"Aproximación función 1\"] = montecarlo(f1, 1, 3, int(i))\n",
    "    table.loc[i, \"Aproximación función 2\"] = montecarlo(f2, 1, 3, int(i))\n",
    "table"
   ]
  },
  {
   "cell_type": "code",
   "execution_count": 42,
   "metadata": {},
   "outputs": [
    {
     "data": {
      "text/html": [
       "<div>\n",
       "<style scoped>\n",
       "    .dataframe tbody tr th:only-of-type {\n",
       "        vertical-align: middle;\n",
       "    }\n",
       "\n",
       "    .dataframe tbody tr th {\n",
       "        vertical-align: top;\n",
       "    }\n",
       "\n",
       "    .dataframe thead th {\n",
       "        text-align: right;\n",
       "    }\n",
       "</style>\n",
       "<table border=\"1\" class=\"dataframe\">\n",
       "  <thead>\n",
       "    <tr style=\"text-align: right;\">\n",
       "      <th></th>\n",
       "      <th>Aproximación función 1</th>\n",
       "      <th>Error</th>\n",
       "      <th>Aproximación función 2</th>\n",
       "      <th>Error 2</th>\n",
       "    </tr>\n",
       "  </thead>\n",
       "  <tbody>\n",
       "    <tr>\n",
       "      <th>10.0</th>\n",
       "      <td>14.651445</td>\n",
       "      <td>-0.623945</td>\n",
       "      <td>0.976829</td>\n",
       "      <td>-0.107029</td>\n",
       "    </tr>\n",
       "    <tr>\n",
       "      <th>100.0</th>\n",
       "      <td>12.992924</td>\n",
       "      <td>1.034576</td>\n",
       "      <td>0.863655</td>\n",
       "      <td>0.006145</td>\n",
       "    </tr>\n",
       "    <tr>\n",
       "      <th>1000.0</th>\n",
       "      <td>13.816607</td>\n",
       "      <td>0.210893</td>\n",
       "      <td>0.864728</td>\n",
       "      <td>0.005072</td>\n",
       "    </tr>\n",
       "    <tr>\n",
       "      <th>10000.0</th>\n",
       "      <td>14.045793</td>\n",
       "      <td>-0.018293</td>\n",
       "      <td>0.868033</td>\n",
       "      <td>0.001767</td>\n",
       "    </tr>\n",
       "    <tr>\n",
       "      <th>100000.0</th>\n",
       "      <td>14.037169</td>\n",
       "      <td>-0.009669</td>\n",
       "      <td>0.871369</td>\n",
       "      <td>-0.001569</td>\n",
       "    </tr>\n",
       "  </tbody>\n",
       "</table>\n",
       "</div>"
      ],
      "text/plain": [
       "         Aproximación función 1     Error Aproximación función 2   Error 2\n",
       "10.0                  14.651445 -0.623945               0.976829 -0.107029\n",
       "100.0                 12.992924  1.034576               0.863655  0.006145\n",
       "1000.0                13.816607  0.210893               0.864728  0.005072\n",
       "10000.0               14.045793 -0.018293               0.868033  0.001767\n",
       "100000.0              14.037169 -0.009669               0.871369 -0.001569"
      ]
     },
     "execution_count": 42,
     "metadata": {},
     "output_type": "execute_result"
    }
   ],
   "source": [
    "#Ejercicio extra\n",
    "\n",
    "def f1(x):\n",
    "    return np.exp(x) * np.log(x)\n",
    "def f2(x):\n",
    "    return np.sin(x) * np.log(x)\n",
    "\n",
    "N = np.logspace(1, 5, 5)\n",
    "table = pd.DataFrame(index=N, columns=[ \"Aproximación función 1\", \"Error\", \"Aproximación función 2\", \"Error 2\"])\n",
    "\n",
    "for i in N :\n",
    "    table.loc[i, \"Aproximación función 1\"] = montecarlo(f1, 1, 3, int(i))\n",
    "    table.loc[i, \"Aproximación función 2\"] = montecarlo(f2, 1, 3, int(i))\n",
    "table[\"Error\"] = (14.0275) - table[\"Aproximación función 1\"]\n",
    "table[\"Error 2\"] = (0.8698) - table[\"Aproximación función 2\"]\n",
    "table\n"
   ]
  },
  {
   "cell_type": "markdown",
   "metadata": {},
   "source": [
    "2. Aproximar el área de la región descrita por\n",
    "\n",
    "$$x^2+2y^2\\leq-2x+8y-7$$\n",
    "\n",
    "Poner los resultados en una tabla cuyas filas correspondan a la cantidad de términos utilizados en la aproximación (usar 10, 100, 1000, 10000 y 100000 términos) y en las columnas el valor de aproximación y el error relativo.\n",
    "\n",
    "Definir unos límites adecuados $a_1$, $b_1$, $a_2$ y $b_2$, para la región $R=\\left[a_1,b_1\\right]\\times\\left[a_2,b_2\\right]$"
   ]
  },
  {
   "cell_type": "code",
   "execution_count": 43,
   "metadata": {},
   "outputs": [
    {
     "data": {
      "text/plain": [
       "<function matplotlib.pyplot.grid(b=None, which='major', axis='both', **kwargs)>"
      ]
     },
     "execution_count": 43,
     "metadata": {},
     "output_type": "execute_result"
    },
    {
     "data": {
      "image/png": "[encoded data removed]",
      "text/plain": [
       "<Figure size 432x288 with 1 Axes>"
      ]
     },
     "metadata": {
      "needs_background": "light"
     },
     "output_type": "display_data"
    }
   ],
   "source": [
    "import numpy as np\n",
    "import matplotlib.pyplot as plt\n",
    "def montecarlo2(region, ax, bx, ay, by, N) :\n",
    "    x = np.random.uniform(ax, bx, N)\n",
    "    y = np.random.uniform(ay, by, N)\n",
    "    B = region(x, y)\n",
    "    AR = (bx - ax)*(by - ay)\n",
    "    return np.mean(B)*AR\n",
    "\n",
    "def f_bernoulli(x, y) :\n",
    "    return (x**2+2*y**2<=-2*x+8*y-7)\n",
    "\n",
    "x=np.random.uniform(-3,1,1000)\n",
    "y=np.random.uniform(0,4,1000)\n",
    "x,y=np.meshgrid(x,y)\n",
    "\n",
    "plt.figure()\n",
    "plt.scatter(x, y, c=~f_bernoulli(x,y))\n",
    "plt.grid"
   ]
  },
  {
   "cell_type": "code",
   "execution_count": 47,
   "metadata": {},
   "outputs": [
    {
     "data": {
      "text/html": [
       "<div>\n",
       "<style scoped>\n",
       "    .dataframe tbody tr th:only-of-type {\n",
       "        vertical-align: middle;\n",
       "    }\n",
       "\n",
       "    .dataframe tbody tr th {\n",
       "        vertical-align: top;\n",
       "    }\n",
       "\n",
       "    .dataframe thead th {\n",
       "        text-align: right;\n",
       "    }\n",
       "</style>\n",
       "<table border=\"1\" class=\"dataframe\">\n",
       "  <thead>\n",
       "    <tr style=\"text-align: right;\">\n",
       "      <th></th>\n",
       "      <th>Aproximación</th>\n",
       "    </tr>\n",
       "  </thead>\n",
       "  <tbody>\n",
       "    <tr>\n",
       "      <th>10.0</th>\n",
       "      <td>4.8</td>\n",
       "    </tr>\n",
       "    <tr>\n",
       "      <th>100.0</th>\n",
       "      <td>5.44</td>\n",
       "    </tr>\n",
       "    <tr>\n",
       "      <th>1000.0</th>\n",
       "      <td>4.4</td>\n",
       "    </tr>\n",
       "    <tr>\n",
       "      <th>10000.0</th>\n",
       "      <td>4.4992</td>\n",
       "    </tr>\n",
       "    <tr>\n",
       "      <th>100000.0</th>\n",
       "      <td>4.42368</td>\n",
       "    </tr>\n",
       "  </tbody>\n",
       "</table>\n",
       "</div>"
      ],
      "text/plain": [
       "         Aproximación\n",
       "10.0              4.8\n",
       "100.0            5.44\n",
       "1000.0            4.4\n",
       "10000.0        4.4992\n",
       "100000.0      4.42368"
      ]
     },
     "execution_count": 47,
     "metadata": {},
     "output_type": "execute_result"
    }
   ],
   "source": [
    "import pandas as pd\n",
    "\n",
    "N = np.logspace(1, 5, 5) # Genera 5 elementos desde 10^1 hasta 10^5 \n",
    "table = pd.DataFrame(columns=[\"Aproximación\"], index=N)\n",
    "\n",
    "for i in N :\n",
    "    table.loc[i, \"Aproximación\"] = montecarlo2(f_bernoulli,-3,1,0,4, int(i))\n",
    "table"
   ]
  },
  {
   "cell_type": "code",
   "execution_count": 49,
   "metadata": {},
   "outputs": [
    {
     "data": {
      "text/html": [
       "<div>\n",
       "<style scoped>\n",
       "    .dataframe tbody tr th:only-of-type {\n",
       "        vertical-align: middle;\n",
       "    }\n",
       "\n",
       "    .dataframe tbody tr th {\n",
       "        vertical-align: top;\n",
       "    }\n",
       "\n",
       "    .dataframe thead th {\n",
       "        text-align: right;\n",
       "    }\n",
       "</style>\n",
       "<table border=\"1\" class=\"dataframe\">\n",
       "  <thead>\n",
       "    <tr style=\"text-align: right;\">\n",
       "      <th></th>\n",
       "      <th>Aproximación</th>\n",
       "      <th>Error</th>\n",
       "    </tr>\n",
       "  </thead>\n",
       "  <tbody>\n",
       "    <tr>\n",
       "      <th>10.0</th>\n",
       "      <td>4.8</td>\n",
       "      <td>-0.357117</td>\n",
       "    </tr>\n",
       "    <tr>\n",
       "      <th>100.0</th>\n",
       "      <td>5.28</td>\n",
       "      <td>-0.837117</td>\n",
       "    </tr>\n",
       "    <tr>\n",
       "      <th>1000.0</th>\n",
       "      <td>5.168</td>\n",
       "      <td>-0.725117</td>\n",
       "    </tr>\n",
       "    <tr>\n",
       "      <th>10000.0</th>\n",
       "      <td>4.3776</td>\n",
       "      <td>0.065283</td>\n",
       "    </tr>\n",
       "    <tr>\n",
       "      <th>100000.0</th>\n",
       "      <td>4.44288</td>\n",
       "      <td>0.000003</td>\n",
       "    </tr>\n",
       "  </tbody>\n",
       "</table>\n",
       "</div>"
      ],
      "text/plain": [
       "         Aproximación     Error\n",
       "10.0              4.8 -0.357117\n",
       "100.0            5.28 -0.837117\n",
       "1000.0          5.168 -0.725117\n",
       "10000.0        4.3776  0.065283\n",
       "100000.0      4.44288  0.000003"
      ]
     },
     "execution_count": 49,
     "metadata": {},
     "output_type": "execute_result"
    }
   ],
   "source": [
    "#Ejercicio extra\n",
    "import pandas as pd\n",
    "\n",
    "N = np.logspace(1, 5, 5) # Genera 5 elementos desde 10^1 hasta 10^5 \n",
    "table = pd.DataFrame(columns=[\"Aproximación\" , \"Error\"], index=N)\n",
    "\n",
    "# Calculamos el área real del Elipse con la herramienta wolfram alpha\n",
    "ra = 1\n",
    "rb = np.sqrt(2)\n",
    "Ae = ra * rb * np.pi\n",
    "\n",
    "for i in N :\n",
    "    table.loc[i, \"Aproximación\"] = montecarlo2(f_bernoulli,-3,1,0,4, int(i))\n",
    "table[\"Error\"] = (Ae) - table[\"Aproximación\"]\n",
    "table"
   ]
  },
  {
   "cell_type": "code",
   "execution_count": null,
   "metadata": {},
   "outputs": [],
   "source": []
  }
 ],
 "metadata": {
  "kernelspec": {
   "display_name": "Python 3 (ipykernel)",
   "language": "python",
   "name": "python3"
  },
  "language_info": {
   "codemirror_mode": {
    "name": "ipython",
    "version": 3
   },
   "file_extension": ".py",
   "mimetype": "text/x-python",
   "name": "python",
   "nbconvert_exporter": "python",
   "pygments_lexer": "ipython3",
   "version": "3.9.7"
  }
 },
 "nbformat": 4,
 "nbformat_minor": 2
}
